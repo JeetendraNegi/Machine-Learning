{
 "cells": [
  {
   "cell_type": "markdown",
   "id": "f97e5ec8",
   "metadata": {},
   "source": [
    "# 🤖 Confusion Matrix – Easy Explanation\n",
    "\n",
    "### 📘 What is a Confusion Matrix?\n",
    "\n",
    "A **confusion matrix** is a table used to evaluate the performance of a classification model.\n",
    "\n",
    "It shows how well the model's predictions match the actual classes.\n",
    "\n",
    "---\n",
    "\n",
    "### 📊 Confusion Matrix Format (for Binary Classification)\n",
    "\n",
    "|                      | **Predicted: Yes (1)** | **Predicted: No (0)** |\n",
    "|----------------------|------------------------|------------------------|\n",
    "| **Actual: Yes (1)**  | True Positive (TP)     | False Negative (FN)    |\n",
    "| **Actual: No (0)**   | False Positive (FP)    | True Negative (TN)     |\n",
    "\n",
    "---\n",
    "\n",
    "### 🧠 Simple Definitions\n",
    "\n",
    "- **TP (True Positive):** Model predicted **Yes**, and it was actually **Yes**  \n",
    "- **TN (True Negative):** Model predicted **No**, and it was actually **No**  \n",
    "- **FP (False Positive):** Model predicted **Yes**, but it was actually **No**  \n",
    "- **FN (False Negative):** Model predicted **No**, but it was actually **Yes**\n",
    "\n",
    "---\n",
    "\n",
    "### 🧮 Important Formulas\n",
    "\n",
    "- **Accuracy:**  \n",
    "$[\n",
    "\\text{Accuracy} = \\frac{TP + TN}{TP + TN + FP + FN}\n",
    "$]\n",
    "\n",
    "- **Precision:**  \n",
    "$[\n",
    "\\text{Precision} = \\frac{TP}{TP + FP}\n",
    "$]\n",
    "\n",
    "- **Recall (Sensitivity):**  \n",
    "$[\n",
    "\\text{Recall} = \\frac{TP}{TP + FN}\n",
    "$]\n",
    "\n",
    "- **F1 Score:**  \n",
    "$[\n",
    "\\text{F1 Score} = 2 \\times \\frac{\\text{Precision} \\times \\text{Recall}}{\\text{Precision} + \\text{Recall}}\n",
    "$]\n",
    "\n",
    "---\n",
    "\n",
    "📌 Use a confusion matrix to see where your model is making mistakes and how you can improve it!\n"
   ]
  },
  {
   "cell_type": "code",
   "execution_count": 1,
   "id": "07d1ff52",
   "metadata": {},
   "outputs": [],
   "source": [
    "import pandas as pd\n",
    "import seaborn as sns\n",
    "import matplotlib.pyplot as plt"
   ]
  },
  {
   "cell_type": "code",
   "execution_count": null,
   "id": "497ebc56",
   "metadata": {},
   "outputs": [],
   "source": []
  }
 ],
 "metadata": {
  "kernelspec": {
   "display_name": "base",
   "language": "python",
   "name": "python3"
  },
  "language_info": {
   "codemirror_mode": {
    "name": "ipython",
    "version": 3
   },
   "file_extension": ".py",
   "mimetype": "text/x-python",
   "name": "python",
   "nbconvert_exporter": "python",
   "pygments_lexer": "ipython3",
   "version": "3.12.7"
  }
 },
 "nbformat": 4,
 "nbformat_minor": 5
}
