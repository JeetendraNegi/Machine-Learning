{
 "cells": [
  {
   "cell_type": "markdown",
   "id": "1d8396e3",
   "metadata": {},
   "source": [
    "# Classification Analysis in Machine Learning"
   ]
  },
  {
   "cell_type": "markdown",
   "id": "42ee4a5b",
   "metadata": {},
   "source": [
    "### 🧠 What is Classification in Machine Learning?\n",
    "\n",
    "**Classification** is a type of **supervised learning** where the goal is to **predict a label or category** for given input data.\n",
    "\n",
    "Think of it like sorting things into boxes — each box is a different category."
   ]
  },
  {
   "cell_type": "markdown",
   "id": "368cdf78",
   "metadata": {},
   "source": [
    "### 🧾 Definition:\n",
    "\n",
    "> **Classification** is a process where a machine learning model learns to assign **input data** into one of **several predefined classes or categories** based on patterns it has learned from labeled training data."
   ]
  },
  {
   "cell_type": "markdown",
   "id": "d3b49137",
   "metadata": {},
   "source": [
    "### ✅ Examples:\n",
    "- **Email Spam Detection**: Is the email **spam** or **not spam**?\n",
    "- **Medical Diagnosis**: Is the patient **healthy**, has a **cold**, or has the **flu**?\n",
    "- **Image Recognition**: Is this picture a **cat**, **dog**, or **horse**?"
   ]
  },
  {
   "cell_type": "markdown",
   "id": "9e4c0df4",
   "metadata": {},
   "source": [
    "### 📘 Types of Classification:\n",
    "\n",
    "1. ### **Binary Classification**\n",
    "   - Only **two** possible classes.\n",
    "   - ✅ Example: Spam or Not Spam, Yes or No\n",
    "   - ✅ Algorithms: Logistic Regression, SVM (Support Vector Machine)\n",
    "\n",
    "2. ### **Multiclass Classification**\n",
    "   - More than **two classes**, but **only one** label is assigned per input.\n",
    "   - ✅ Example: Classifying animals into Cat, Dog, or Horse.\n",
    "   - ✅ Algorithms: Decision Tree, Random Forest, Neural Networks\n",
    "\n",
    "3. ### **Multilabel Classification**\n",
    "   - Each input can have **more than one label**.\n",
    "   - ✅ Example: A movie can be Action **and** Comedy.\n",
    "   - ✅ Algorithms: Modified versions of Logistic Regression, KNN, etc.\n",
    "\n",
    "4. ### **Imbalanced Classification**\n",
    "   - One class has **much fewer examples** than others.\n",
    "   - ✅ Example: Fraud detection — very few fraud cases vs many non-fraud cases.\n",
    "   - ✅ Requires special techniques like SMOTE, weighted loss."
   ]
  }
 ],
 "metadata": {},
 "nbformat": 4,
 "nbformat_minor": 5
}
