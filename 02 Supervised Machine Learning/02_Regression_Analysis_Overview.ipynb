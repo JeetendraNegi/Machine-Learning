{
 "cells": [
  {
   "cell_type": "markdown",
   "id": "1b8317b6",
   "metadata": {},
   "source": [
    "# 📘 Regression Analysis: Definition and Types"
   ]
  },
  {
   "cell_type": "markdown",
   "id": "5e64cb2a",
   "metadata": {},
   "source": [
    "### **What is Regression Analysis?**\n",
    "\n",
    "**Regression Analysis** is a statistical method used to examine the relationship between a **dependent variable** (target) and one or more **independent variables** (predictors or features). It helps in understanding how the dependent variable changes when any one of the independent variables is varied, while the others are held fixed.\n",
    "\n",
    "It is widely used in prediction, forecasting, time series modeling, and determining causal relationships between variables.\n"
   ]
  },
  {
   "cell_type": "markdown",
   "id": "05e83ac9",
   "metadata": {},
   "source": [
    "### **Types of Regression Analysis**\n",
    "\n",
    "Here are the most common types of regression:\n"
   ]
  },
  {
   "cell_type": "markdown",
   "id": "c1259900",
   "metadata": {},
   "source": [
    "#### 1. **Linear Regression**\n",
    "- Models the linear relationship between the dependent and independent variable(s).\n",
    "- Equation:  \n",
    "  $\n",
    "  Y = \\beta_0 + \\beta_1X + \\varepsilon\n",
    "  $\n",
    "- Example: Predicting house prices based on size.\n"
   ]
  },
  {
   "cell_type": "markdown",
   "id": "d9020f3e",
   "metadata": {},
   "source": [
    "#### 2. **Multiple Linear Regression**\n",
    "- Extension of linear regression with multiple independent variables.\n",
    "- Equation:  \n",
    "  $\n",
    "  Y = \\beta_0 + \\beta_1X_1 + \\beta_2X_2 + \\ldots + \\beta_nX_n + \\varepsilon\n",
    "  $\n"
   ]
  },
  {
   "cell_type": "markdown",
   "id": "71599f8d",
   "metadata": {},
   "source": [
    "#### 3. **Polynomial Regression**\n",
    "- Models a non-linear relationship using a polynomial equation.\n",
    "- Useful when data trends show a curve.\n",
    "- Equation:  \n",
    "  $\n",
    "  Y = \\beta_0 + \\beta_1X + \\beta_2X^2 + \\ldots + \\beta_nX^n + \\varepsilon\n",
    "  $\n"
   ]
  },
  {
   "cell_type": "markdown",
   "id": "7a3653c4",
   "metadata": {},
   "source": [
    "#### 4. **Ridge Regression (L2 Regularization)**\n",
    "- Used to handle multicollinearity by adding a penalty to the loss function.\n",
    "- Keeps all predictors but reduces their impact.\n"
   ]
  },
  {
   "cell_type": "markdown",
   "id": "cc7836d4",
   "metadata": {},
   "source": [
    "#### 5. **Lasso Regression (L1 Regularization)**\n",
    "- Similar to Ridge, but it can shrink some coefficients to zero, effectively performing feature selection.\n"
   ]
  },
  {
   "cell_type": "markdown",
   "id": "969c244f",
   "metadata": {},
   "source": [
    "#### 6. **Logistic Regression**\n",
    "- Used for classification problems (binary or multiclass).\n",
    "- Outputs probability and maps predicted values between 0 and 1.\n"
   ]
  },
  {
   "cell_type": "markdown",
   "id": "6c4e157b",
   "metadata": {},
   "source": [
    "#### 7. **Elastic Net Regression**\n",
    "- Combines both L1 (Lasso) and L2 (Ridge) penalties.\n",
    "- Balances feature selection and multicollinearity handling.\n"
   ]
  },
  {
   "cell_type": "markdown",
   "id": "e0c10062",
   "metadata": {},
   "source": [
    "#### 8. **Stepwise Regression**\n",
    "- A combination of forward selection and backward elimination techniques to select features.\n"
   ]
  },
  {
   "cell_type": "markdown",
   "id": "ded823b2",
   "metadata": {},
   "source": [
    "#### 9. **Quantile Regression**\n",
    "- Predicts a specified quantile (e.g., median) instead of the mean of the target variable.\n"
   ]
  },
  {
   "cell_type": "markdown",
   "id": "2ad832f5",
   "metadata": {},
   "source": [
    "### ✅ Summary\n",
    "\n",
    "Regression analysis is a foundational technique in data science and machine learning for predicting outcomes and understanding relationships between variables. Choosing the right type depends on:\n",
    "- The number of predictors\n",
    "- The form of the relationship (linear vs non-linear)\n",
    "- The presence of multicollinearity or outliers\n",
    "- The goal: prediction, feature selection, or interpretation\n"
   ]
  }
 ],
 "metadata": {
  "language_info": {
   "name": "python"
  }
 },
 "nbformat": 4,
 "nbformat_minor": 5
}
